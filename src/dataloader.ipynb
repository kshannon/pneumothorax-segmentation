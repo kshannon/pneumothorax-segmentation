{
 "cells": [
  {
   "cell_type": "code",
   "execution_count": 21,
   "metadata": {
    "_cell_guid": "b1076dfc-b9ad-4769-8c92-a6c4dae69d19",
    "_kg_hide-input": true,
    "_uuid": "8f2839f25d086af736a60e9eeb907d3b93b6e0e5"
   },
   "outputs": [],
   "source": [
    "import numpy as np\n",
    "import keras as K\n",
    "\n",
    "import glob\n",
    "import os\n",
    "import PIL\n",
    "import pydicom\n",
    "\n",
    "import pandas as pd\n",
    "\n",
    "import matplotlib.pyplot as plt\n",
    "\n",
    "%matplotlib inline"
   ]
  },
  {
   "cell_type": "code",
   "execution_count": 2,
   "metadata": {},
   "outputs": [],
   "source": [
    "train_glob = 'dicom-images-train/*/*/*.dcm'\n",
    "test_glob = 'dicom-images-test/*/*/*.dcm'\n",
    "train_fns = sorted(glob.glob(train_glob))\n",
    "test_fns = sorted(glob.glob(test_glob))"
   ]
  },
  {
   "cell_type": "code",
   "execution_count": 4,
   "metadata": {},
   "outputs": [
    {
     "data": {
      "text/plain": [
       "'dicom-images-train/1.2.276.0.7230010.3.1.2.8323329.1000.1517875165.878026/1.2.276.0.7230010.3.1.3.8323329.1000.1517875165.878025/1.2.276.0.7230010.3.1.4.8323329.1000.1517875165.878027.dcm'"
      ]
     },
     "execution_count": 4,
     "metadata": {},
     "output_type": "execute_result"
    }
   ],
   "source": [
    "train_fns[0]"
   ]
  },
  {
   "cell_type": "code",
   "execution_count": 32,
   "metadata": {},
   "outputs": [
    {
     "data": {
      "text/plain": [
       "'1.2.276.0.7230010.3.1.4.8323329.1000.1517875165.878027'"
      ]
     },
     "execution_count": 32,
     "metadata": {},
     "output_type": "execute_result"
    }
   ],
   "source": [
    "os.path.splitext(train_fns[0])[0].split(\"/\")[-1]"
   ]
  },
  {
   "cell_type": "code",
   "execution_count": 15,
   "metadata": {},
   "outputs": [
    {
     "data": {
      "text/plain": [
       "(1024, 1024)"
      ]
     },
     "execution_count": 15,
     "metadata": {},
     "output_type": "execute_result"
    }
   ],
   "source": [
    "ds.shape"
   ]
  },
  {
   "cell_type": "code",
   "execution_count": 19,
   "metadata": {},
   "outputs": [
    {
     "data": {
      "text/html": [
       "<div>\n",
       "<style scoped>\n",
       "    .dataframe tbody tr th:only-of-type {\n",
       "        vertical-align: middle;\n",
       "    }\n",
       "\n",
       "    .dataframe tbody tr th {\n",
       "        vertical-align: top;\n",
       "    }\n",
       "\n",
       "    .dataframe thead th {\n",
       "        text-align: right;\n",
       "    }\n",
       "</style>\n",
       "<table border=\"1\" class=\"dataframe\">\n",
       "  <thead>\n",
       "    <tr style=\"text-align: right;\">\n",
       "      <th></th>\n",
       "      <th>EncodedPixels</th>\n",
       "    </tr>\n",
       "    <tr>\n",
       "      <th>ImageId</th>\n",
       "      <th></th>\n",
       "    </tr>\n",
       "  </thead>\n",
       "  <tbody>\n",
       "    <tr>\n",
       "      <th>1.2.276.0.7230010.3.1.4.8323329.5597.1517875188.959090</th>\n",
       "      <td>-1</td>\n",
       "    </tr>\n",
       "    <tr>\n",
       "      <th>1.2.276.0.7230010.3.1.4.8323329.12515.1517875239.501137</th>\n",
       "      <td>-1</td>\n",
       "    </tr>\n",
       "    <tr>\n",
       "      <th>1.2.276.0.7230010.3.1.4.8323329.4904.1517875185.355709</th>\n",
       "      <td>175349 7 1013 12 1009 17 1005 19 1003 20 1002...</td>\n",
       "    </tr>\n",
       "    <tr>\n",
       "      <th>1.2.276.0.7230010.3.1.4.8323329.32579.1517875161.299312</th>\n",
       "      <td>407576 2 1021 7 1015 10 1013 12 1011 14 1008 ...</td>\n",
       "    </tr>\n",
       "    <tr>\n",
       "      <th>1.2.276.0.7230010.3.1.4.8323329.32579.1517875161.299312</th>\n",
       "      <td>252069 1 1021 3 1020 4 1018 5 1018 6 1016 7 1...</td>\n",
       "    </tr>\n",
       "  </tbody>\n",
       "</table>\n",
       "</div>"
      ],
      "text/plain": [
       "                                                                                        EncodedPixels\n",
       "ImageId                                                                                              \n",
       "1.2.276.0.7230010.3.1.4.8323329.5597.1517875188...                                                 -1\n",
       "1.2.276.0.7230010.3.1.4.8323329.12515.151787523...                                                 -1\n",
       "1.2.276.0.7230010.3.1.4.8323329.4904.1517875185...   175349 7 1013 12 1009 17 1005 19 1003 20 1002...\n",
       "1.2.276.0.7230010.3.1.4.8323329.32579.151787516...   407576 2 1021 7 1015 10 1013 12 1011 14 1008 ...\n",
       "1.2.276.0.7230010.3.1.4.8323329.32579.151787516...   252069 1 1021 3 1020 4 1018 5 1018 6 1016 7 1..."
      ]
     },
     "execution_count": 19,
     "metadata": {},
     "output_type": "execute_result"
    }
   ],
   "source": [
    "rle_csv = \"train-rle.csv\"\n"
   ]
  },
  {
   "cell_type": "code",
   "execution_count": 90,
   "metadata": {},
   "outputs": [
    {
     "data": {
      "text/plain": [
       "4"
      ]
     },
     "execution_count": 90,
     "metadata": {},
     "output_type": "execute_result"
    }
   ],
   "source": [
    "df[df.index == \"1.2.276.0.7230010.3.1.4.8323329.32579.1517875161.299312\"].values.shape[0]"
   ]
  },
  {
   "cell_type": "code",
   "execution_count": 134,
   "metadata": {},
   "outputs": [],
   "source": [
    "class DataGenerator(K.utils.Sequence):\n",
    "    'Generates data for Keras'\n",
    "    def __init__(self, im_path, rle_csv, batch_size=32, shuffle=True):\n",
    "        'Initialization'\n",
    "        self.batch_size = batch_size\n",
    "        self.im_paths = sorted(glob.glob(im_path))\n",
    "        \n",
    "        self.im_path = im_path\n",
    "        self.mask_df = pd.read_csv(rle_csv, index_col='ImageId') \n",
    "        \n",
    "        self.height = 1024\n",
    "        self.width = 1024\n",
    "\n",
    "        self.shuffle = shuffle\n",
    "        self.on_epoch_end()\n",
    "\n",
    "    def __len__(self):\n",
    "        'Denotes the number of batches per epoch'\n",
    "        return int(np.ceil(len(self.im_paths) / self.batch_size))\n",
    "\n",
    "    def __getitem__(self, index):\n",
    "        'Generate one batch of data'\n",
    "        # Generate indexes of the batch\n",
    "        indexes = self.indexes[index*self.batch_size:min((index+1)*self.batch_size,len(self.im_paths))]\n",
    "\n",
    "        # Find list of IDs\n",
    "        list_IDs_im = [self.im_paths[k] for k in indexes]\n",
    "\n",
    "        # Generate data\n",
    "        X, y, num_masks = self.data_generation(list_IDs_im)\n",
    "\n",
    "        return X, y, num_masks\n",
    "    \n",
    "    def on_epoch_end(self):\n",
    "        'Updates indexes after each epoch'\n",
    "        self.indexes = np.arange(len(self.im_paths))\n",
    "        if self.shuffle == True:\n",
    "            np.random.shuffle(self.indexes)\n",
    "            \n",
    "    def rle2mask(self, rle):\n",
    "        \n",
    "        mask= np.zeros(self.width * self.height)\n",
    "        array = np.asarray([int(x) for x in rle.split()])\n",
    "        starts = array[0::2]\n",
    "        lengths = array[1::2]\n",
    "\n",
    "        current_position = 0\n",
    "        for index, start in enumerate(starts):\n",
    "            current_position += start\n",
    "            mask[current_position:current_position+lengths[index]] = 255\n",
    "            current_position += lengths[index]\n",
    "\n",
    "        return mask.reshape(self.width, self.height).T  # Because mask is rotated\n",
    "\n",
    "    def data_generation(self, list_IDs_im):\n",
    "        'Generates data containing batch_size samples' # X : (n_samples, *dim, n_channels)\n",
    "        # Initialization\n",
    "        \n",
    "        X = np.empty((len(list_IDs_im), self.height, self.width, 1))\n",
    "        y = np.empty((len(list_IDs_im), self.height, self.width, 1))\n",
    "        num_masks_array = np.zeros(len(list_IDs_im))\n",
    "\n",
    "        # Generate data\n",
    "        for idx, im_path in enumerate(list_IDs_im):\n",
    "            \n",
    "            im = pydicom.dcmread(im_path).pixel_array\n",
    "            X[idx, :, :, 0] = (im - np.mean(im)) / np.std(im)\n",
    "            \n",
    "            img_name = os.path.splitext(im_path)[0].split(\"/\")[-1]\n",
    "            \n",
    "            num_masks = self.mask_df[self.mask_df .index == img_name].values.shape[0]\n",
    "            \n",
    "            num_masks_array[idx] = num_masks\n",
    "            \n",
    "            if num_masks > 1:\n",
    "                \n",
    "                y[idx, :, :, 0] = np.zeros((self.height, self.width))\n",
    "                for msk_idx in range(num_masks):\n",
    "                    rle_string = self.mask_df[self.mask_df .index == img_name].values[msk_idx][0]\n",
    "                    y[idx, :, :, 0] += self.rle2mask(rle_string)\n",
    "                \n",
    "            else:\n",
    "                \n",
    "                rle_string = self.mask_df[self.mask_df .index == img_name].values[0][0]\n",
    "\n",
    "                if rle_string == \" -1\" or rle_string == \" -1\":\n",
    "                    y[idx, :, :, 0] = np.zeros((self.height, self.width))\n",
    "                    \n",
    "                    num_masks_array[idx] = 0\n",
    "                else:\n",
    "                    y[idx, :, :, 0] = self.rle2mask(rle_string)\n",
    "                    \n",
    "            \n",
    "        y[y>1] = 1\n",
    "        \n",
    "        return X,y,num_masks_array"
   ]
  },
  {
   "cell_type": "markdown",
   "metadata": {},
   "source": [
    "# Train Set Images with Masks"
   ]
  },
  {
   "cell_type": "code",
   "execution_count": 135,
   "metadata": {},
   "outputs": [],
   "source": [
    "a = DataGenerator(im_path='dicom-images-train/*/*/*.dcm', rle_csv=\"train-rle.csv\", batch_size=64,shuffle=False)\n",
    "images,masks,num_masks = a.__getitem__(1)\n"
   ]
  },
  {
   "cell_type": "code",
   "execution_count": 137,
   "metadata": {},
   "outputs": [
    {
     "data": {
      "text/plain": [
       "<matplotlib.image.AxesImage at 0x7f633c22f5c0>"
      ]
     },
     "execution_count": 137,
     "metadata": {},
     "output_type": "execute_result"
    },
    {
     "data": {
      "image/png": "[encoded data removed]",
      "text/plain": [
       "<Figure size 432x288 with 2 Axes>"
      ]
     },
     "metadata": {
      "needs_background": "light"
     },
     "output_type": "display_data"
    }
   ],
   "source": [
    "idx = 1\n",
    "\n",
    "plt.subplot(1,2,1)\n",
    "\n",
    "plt.imshow(images[idx,:,:,0])\n",
    "\n",
    "plt.subplot(1,2,2)\n",
    "plt.imshow(masks[idx,:,:,0])"
   ]
  },
  {
   "cell_type": "code",
   "execution_count": null,
   "metadata": {},
   "outputs": [],
   "source": []
  }
 ],
 "metadata": {
  "kernelspec": {
   "display_name": "Python 3",
   "language": "python",
   "name": "python3"
  },
  "language_info": {
   "codemirror_mode": {
    "name": "ipython",
    "version": 3
   },
   "file_extension": ".py",
   "mimetype": "text/x-python",
   "name": "python",
   "nbconvert_exporter": "python",
   "pygments_lexer": "ipython3",
   "version": "3.6.8"
  }
 },
 "nbformat": 4,
 "nbformat_minor": 1
}
