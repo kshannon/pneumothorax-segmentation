{
 "cells": [
  {
   "cell_type": "code",
   "execution_count": null,
   "metadata": {},
   "outputs": [],
   "source": [
    "# import tensorflow as tf\n",
    "import pandas as pd\n",
    "import cPickle\n",
    "from tqdm import tqdm_notebook\n",
    "import os\n",
    "import pydicom\n",
    "import glob\n",
    "from PIL import Image\n",
    "import gdcm\n",
    "import PIL\n",
    "import matplotlib.pyplot as plt\n",
    "%pylab inline"
   ]
  },
  {
   "cell_type": "code",
   "execution_count": 3,
   "metadata": {},
   "outputs": [],
   "source": [
    "#path defs\n",
    "train_path = '../data/dicom-images-train/'\n",
    "test_path = '../data/dicom-images-test/'\n",
    "train_dicom_names = '../data/train-dicom-names.csv'\n",
    "test_dicom_names = '../data/test-dicom-names.csv'\n",
    "rle_csv = '../data/train-rle.csv'\n"
   ]
  },
  {
   "cell_type": "code",
   "execution_count": 86,
   "metadata": {},
   "outputs": [],
   "source": [
    "def mask2rle(img, width, height):\n",
    "    rle = []\n",
    "    lastColor = 0;\n",
    "    currentPixel = 0;\n",
    "    runStart = -1;\n",
    "    runLength = 0;\n",
    "\n",
    "    for x in range(width):\n",
    "        for y in range(height):\n",
    "            currentColor = img[x][y]\n",
    "            if currentColor != lastColor:\n",
    "                if currentColor == 255:\n",
    "                    runStart = currentPixel;\n",
    "                    runLength = 1;\n",
    "                else:\n",
    "                    rle.append(str(runStart));\n",
    "                    rle.append(str(runLength));\n",
    "                    runStart = -1;\n",
    "                    runLength = 0;\n",
    "                    currentPixel = 0;\n",
    "            elif runStart > -1:\n",
    "                runLength += 1\n",
    "            lastColor = currentColor;\n",
    "            currentPixel+=1;\n",
    "\n",
    "    return \" \".join(rle)\n",
    "\n",
    "def rle2mask(rle, width, height):\n",
    "    mask= np.zeros(width* height)\n",
    "    array = np.asarray([int(x) for x in rle.split()])\n",
    "    starts = array[0::2]\n",
    "    lengths = array[1::2]\n",
    "\n",
    "    current_position = 0\n",
    "    for index, start in enumerate(starts):\n",
    "        current_position += start\n",
    "        mask[current_position:current_position+lengths[index]] = 255\n",
    "        current_position += lengths[index]\n",
    "\n",
    "    return mask.reshape(width, height)"
   ]
  },
  {
   "cell_type": "code",
   "execution_count": null,
   "metadata": {},
   "outputs": [],
   "source": []
  },
  {
   "cell_type": "code",
   "execution_count": null,
   "metadata": {},
   "outputs": [],
   "source": []
  },
  {
   "cell_type": "code",
   "execution_count": null,
   "metadata": {},
   "outputs": [],
   "source": []
  },
  {
   "cell_type": "code",
   "execution_count": null,
   "metadata": {},
   "outputs": [],
   "source": []
  },
  {
   "cell_type": "code",
   "execution_count": 85,
   "metadata": {},
   "outputs": [
    {
     "data": {
      "text/html": [
       "<div>\n",
       "<style scoped>\n",
       "    .dataframe tbody tr th:only-of-type {\n",
       "        vertical-align: middle;\n",
       "    }\n",
       "\n",
       "    .dataframe tbody tr th {\n",
       "        vertical-align: top;\n",
       "    }\n",
       "\n",
       "    .dataframe thead th {\n",
       "        text-align: right;\n",
       "    }\n",
       "</style>\n",
       "<table border=\"1\" class=\"dataframe\">\n",
       "  <thead>\n",
       "    <tr style=\"text-align: right;\">\n",
       "      <th></th>\n",
       "      <th>EncodedPixels</th>\n",
       "    </tr>\n",
       "    <tr>\n",
       "      <th>ImageId</th>\n",
       "      <th></th>\n",
       "    </tr>\n",
       "  </thead>\n",
       "  <tbody>\n",
       "    <tr>\n",
       "      <th>1.2.276.0.7230010.3.1.4.8323329.5597.1517875188.959090</th>\n",
       "      <td>-1</td>\n",
       "    </tr>\n",
       "    <tr>\n",
       "      <th>1.2.276.0.7230010.3.1.4.8323329.12515.1517875239.501137</th>\n",
       "      <td>-1</td>\n",
       "    </tr>\n",
       "    <tr>\n",
       "      <th>1.2.276.0.7230010.3.1.4.8323329.4904.1517875185.355709</th>\n",
       "      <td>175349 7 1013 12 1009 17 1005 19 1003 20 1002...</td>\n",
       "    </tr>\n",
       "    <tr>\n",
       "      <th>1.2.276.0.7230010.3.1.4.8323329.32579.1517875161.299312</th>\n",
       "      <td>407576 2 1021 7 1015 10 1013 12 1011 14 1008 ...</td>\n",
       "    </tr>\n",
       "    <tr>\n",
       "      <th>1.2.276.0.7230010.3.1.4.8323329.32579.1517875161.299312</th>\n",
       "      <td>252069 1 1021 3 1020 4 1018 5 1018 6 1016 7 1...</td>\n",
       "    </tr>\n",
       "  </tbody>\n",
       "</table>\n",
       "</div>"
      ],
      "text/plain": [
       "                                                                                        EncodedPixels\n",
       "ImageId                                                                                              \n",
       "1.2.276.0.7230010.3.1.4.8323329.5597.1517875188...                                                 -1\n",
       "1.2.276.0.7230010.3.1.4.8323329.12515.151787523...                                                 -1\n",
       "1.2.276.0.7230010.3.1.4.8323329.4904.1517875185...   175349 7 1013 12 1009 17 1005 19 1003 20 1002...\n",
       "1.2.276.0.7230010.3.1.4.8323329.32579.151787516...   407576 2 1021 7 1015 10 1013 12 1011 14 1008 ...\n",
       "1.2.276.0.7230010.3.1.4.8323329.32579.151787516...   252069 1 1021 3 1020 4 1018 5 1018 6 1016 7 1..."
      ]
     },
     "execution_count": 85,
     "metadata": {},
     "output_type": "execute_result"
    }
   ],
   "source": [
    "# # import RLE csv file\n",
    "# df = pd.read_csv(rle_csv, index_col='ImageId') #TODO take extra nagging space out of encoded pixels\n",
    "# df.head()"
   ]
  },
  {
   "cell_type": "code",
   "execution_count": 105,
   "metadata": {},
   "outputs": [],
   "source": [
    "# train_glob = train_path + '*/*/*.dcm'\n",
    "# test_glob = test_path + '*/*/*.dcm'\n",
    "# #list of paths to dicom\n",
    "# train_fns = sorted(glob.glob(train_glob)) #10712\n",
    "# test_fns = sorted(glob.glob(test_glob)) #1377\n",
    "\n",
    "\n",
    "train_glob = '../data/dicom-images-train/*/*/*.dcm'\n",
    "test_glob = '../data/dicom-images-test/*/*/*.dcm'\n",
    "train_fns = sorted(glob.glob(train_glob))\n",
    "test_fns = sorted(glob.glob(test_glob))\n",
    "df = pd.read_csv('../data/train-rle.csv', index_col='ImageId')"
   ]
  },
  {
   "cell_type": "code",
   "execution_count": 106,
   "metadata": {},
   "outputs": [
    {
     "name": "stdout",
     "output_type": "stream",
     "text": [
      "Getting train images and masks ... \n"
     ]
    }
   ],
   "source": [
    "im_height = 1024\n",
    "im_width = 1024\n",
    "im_chan = 1\n",
    "\n",
    "# Get train images and masks\n",
    "X_train = np.zeros((len(train_fns), im_height, im_width, im_chan), dtype=np.uint8)\n",
    "Y_train = np.zeros((len(train_fns), im_height, im_width, 1), dtype=np.bool)\n",
    "print('Getting train images and masks ... ')\n",
    "sys.stdout.flush()"
   ]
  },
  {
   "cell_type": "code",
   "execution_count": 22,
   "metadata": {},
   "outputs": [
    {
     "name": "stdout",
     "output_type": "stream",
     "text": [
      "10712\n"
     ]
    },
    {
     "data": {
      "text/plain": [
       "(1024, 1024, 1)"
      ]
     },
     "execution_count": 22,
     "metadata": {},
     "output_type": "execute_result"
    }
   ],
   "source": [
    "print(len(X_train))\n",
    "X_train[0].shape"
   ]
  },
  {
   "cell_type": "code",
   "execution_count": null,
   "metadata": {},
   "outputs": [
    {
     "data": {
      "application/vnd.jupyter.widget-view+json": {
       "model_id": "6bb9d378f1db4531b6c7ef21f013c3b9",
       "version_major": 2,
       "version_minor": 0
      },
      "text/plain": [
       "HBox(children=(IntProgress(value=0, max=10712), HTML(value='')))"
      ]
     },
     "metadata": {},
     "output_type": "display_data"
    },
    {
     "name": "stdout",
     "output_type": "stream",
     "text": [
      "Key 1.2.276.0.7230010.3.1.4.8323329.10231.1517875222.737143 without mask, assuming healthy patient.\n",
      "Key 1.2.276.0.7230010.3.1.4.8323329.10362.1517875223.377845 without mask, assuming healthy patient.\n",
      "Key 1.2.276.0.7230010.3.1.4.8323329.10407.1517875223.567351 without mask, assuming healthy patient.\n",
      "Key 1.2.276.0.7230010.3.1.4.8323329.10599.1517875224.488727 without mask, assuming healthy patient.\n",
      "Key 1.2.276.0.7230010.3.1.4.8323329.1068.1517875166.144255 without mask, assuming healthy patient.\n",
      "Key 1.2.276.0.7230010.3.1.4.8323329.11104.1517875231.169401 without mask, assuming healthy patient.\n",
      "Key 1.2.276.0.7230010.3.1.4.8323329.11215.1517875231.757436 without mask, assuming healthy patient.\n",
      "Key 1.2.276.0.7230010.3.1.4.8323329.11557.1517875233.601090 without mask, assuming healthy patient.\n",
      "Key 1.2.276.0.7230010.3.1.4.8323329.11566.1517875233.640521 without mask, assuming healthy patient.\n",
      "Key 1.2.276.0.7230010.3.1.4.8323329.11577.1517875233.694347 without mask, assuming healthy patient.\n",
      "Key 1.2.276.0.7230010.3.1.4.8323329.11584.1517875233.731531 without mask, assuming healthy patient.\n",
      "Key 1.2.276.0.7230010.3.1.4.8323329.12062.1517875237.179186 without mask, assuming healthy patient.\n",
      "Key 1.2.276.0.7230010.3.1.4.8323329.13378.1517875244.961609 without mask, assuming healthy patient.\n",
      "Key 1.2.276.0.7230010.3.1.4.8323329.13415.1517875245.218707 without mask, assuming healthy patient.\n",
      "Key 1.2.276.0.7230010.3.1.4.8323329.13620.1517875246.884737 without mask, assuming healthy patient.\n",
      "Key 1.2.276.0.7230010.3.1.4.8323329.14557.1517875252.690062 without mask, assuming healthy patient.\n"
     ]
    }
   ],
   "source": [
    "for n, _id in tqdm_notebook(enumerate(train_fns), total=len(train_fns)):\n",
    "    dataset = pydicom.read_file(_id)\n",
    "    X_train[n] = np.expand_dims(dataset.pixel_array, axis=2)\n",
    "    try:\n",
    "        if '-1' in df.loc[_id.split('/')[-1][:-4],' EncodedPixels']:\n",
    "            Y_train[n] = np.zeros((1024, 1024, 1))\n",
    "        else:\n",
    "            if type(df.loc[_id.split('/')[-1][:-4],' EncodedPixels']) == str:\n",
    "                Y_train[n] = np.expand_dims(rle2mask(df.loc[_id.split('/')[-1][:-4],' EncodedPixels'], 1024, 1024), axis=2)\n",
    "            else:\n",
    "                Y_train[n] = np.zeros((1024, 1024, 1))\n",
    "                for x in df.loc[_id.split('/')[-1][:-4],' EncodedPixels']:\n",
    "                    Y_train[n] =  Y_train[n] + np.expand_dims(rle2mask(x, 1024, 1024), axis=2)\n",
    "    except KeyError:\n",
    "        print(f\"Key {_id.split('/')[-1][:-4]} without mask, assuming healthy patient.\")\n",
    "        Y_train[n] = np.zeros((1024, 1024, 1)) # Assume missing masks are empty masks.\n",
    "\n",
    "print('Done!')"
   ]
  },
  {
   "cell_type": "code",
   "execution_count": null,
   "metadata": {},
   "outputs": [],
   "source": [
    "with open(r\"../data/x_train\", \"wb\") as output_file:\n",
    "    cPickle.dump(X_train, output_file)\n",
    "    \n",
    "with open(r\"../data/y_train\", \"wb\") as output_file:\n",
    "    cPickle.dump(Y_train, output_file)"
   ]
  },
  {
   "cell_type": "code",
   "execution_count": null,
   "metadata": {},
   "outputs": [],
   "source": []
  },
  {
   "cell_type": "code",
   "execution_count": null,
   "metadata": {},
   "outputs": [],
   "source": []
  },
  {
   "cell_type": "code",
   "execution_count": null,
   "metadata": {},
   "outputs": [],
   "source": []
  }
 ],
 "metadata": {
  "kernelspec": {
   "display_name": "Python 3",
   "language": "python",
   "name": "python3"
  },
  "language_info": {
   "codemirror_mode": {
    "name": "ipython",
    "version": 3
   },
   "file_extension": ".py",
   "mimetype": "text/x-python",
   "name": "python",
   "nbconvert_exporter": "python",
   "pygments_lexer": "ipython3",
   "version": "3.6.8"
  }
 },
 "nbformat": 4,
 "nbformat_minor": 2
}
