{
 "cells": [
  {
   "cell_type": "code",
   "execution_count": 13,
   "metadata": {},
   "outputs": [
    {
     "name": "stdout",
     "output_type": "stream",
     "text": [
      "Populating the interactive namespace from numpy and matplotlib\n"
     ]
    }
   ],
   "source": [
    "import pandas as pd\n",
    "import os\n",
    "import pydicom\n",
    "import glob\n",
    "from PIL import Image\n",
    "import gdcm\n",
    "import PIL\n",
    "import matplotlib.pyplot as plt\n",
    "%pylab inline"
   ]
  },
  {
   "cell_type": "code",
   "execution_count": 2,
   "metadata": {},
   "outputs": [],
   "source": [
    "#path defs\n",
    "train_path = '../data/dicom-images-train/'\n",
    "test_path = '../data/dicom-images-test/'\n",
    "train_dicom_names = '../data/train-dicom-names.csv'\n",
    "test_dicom_names = '../data/test-dicom-names.csv'\n",
    "annot_csv = '../data/train-rle.csv'\n",
    "sample_data = '../data/sample images/'"
   ]
  },
  {
   "cell_type": "markdown",
   "metadata": {},
   "source": [
    "### Overview of Data\n",
    "\n",
    "Issue one user had, look for these issues:\n",
    "> I was able to download all train data (10712 images) - all I had to use sleep(0.025) before two api calls for each study_uid in download_images.py script. The remaining issue is that there is 37 images in train set which don't have annotations. Two options there - drop them from training, or assume its rle-encoding is \"-1\"\"\n",
    "\n",
    "All dicom images are placed within two folders. E.g.\n",
    "- ../data/dicom-images-test/\n",
    "- 1.2.276.0.7230010.3.1.2.8323329.6769.1517875200.68560/ <-- folder 1 of many\n",
    "- 1.2.276.0.7230010.3.1.3.8323329.6769.1517875200.68559/ <-- folder 2 of one\n",
    "- 1.2.276.0.7230010.3.1.4.8323329.6769.1517875200.68561.dcm <-- single dicom image\n",
    "\n",
    "pipe recursive file count to wc: ```find . -type f | wc -l``` Get's us the number of images\n",
    "\n",
    "Now we need the name of all the dicom images ```find ../data/dicom-images-train/ -type f -printf \"%f\\n\" | paste -sd ',' >> ../data/train-dicom-names``` We will use this to cross ref the annotations csv and also check for duplicate data.\n",
    "\n",
    "\n",
    "Train Imgs: 10712  -  Annotations: 11582 (8296 = -1, 3286 = disorder annotated) roughly 3:1\n",
    "\n",
    "Test Imgs: 1377  -  Annotations: No .dcm images are present in the annotation file.\n",
    "\n",
    "Duplicate Dicom Imgs: No\n",
    "\n",
    "##### ISSUE: 37 Dicom images are not accounted for in the annotation list. \n",
    "\n",
    "##### ISSUE: 1.2.276.0.7230010.3.1.4.8323329.6421.1517875198.98821.dcm in TEST Set\n",
    "```(7b5b, 200a) Private tag data                    UN: b'ror\": {\\n    \"code\": 429,\\n    \"message\": \"Quota exceeded for quota metric \\'healthcare.googleapis.com/dicom_web_ops\\' and limit \\'DicomWebOpsPerMinutePerProject\\' of service \\'healthcare.googleapis.com\\' for consumer \\'project_number:38125765871\\'.\",\\n    \"status\": \"RESOURCE_EXHAUSTED\",\\n    \"details\": [\\n      {\\n        \"@type\": \"type.googleapis.com/google.rpc.Help\",\\n        \"links\": [\\n          {\\n            \"description\": \"Google developer console API key\",\\n            \"url\": \"https://console.developers.google.com/project/38125765871/apiui/credential\"\\n          }\\n        ]\\n      }\\n    ]\\n  }\\n}\\n]'```\n",
    "path: '../data/dicom-images-test/1.2.276.0.7230010.3.1.2.8323329.6421.1517875198.98820/1.2.276.0.7230010.3.1.3.8323329.6421.1517875198.98819/1.2.276.0.7230010.3.1.4.8323329.6421.1517875198.98821.dcm'\n",
    "##### ISSUE: 1588 training images are fake news. google never gave the data, nor did the download script return any issue...\n",
    "yup.. google screwed me over. thanks google..... 1588 instances off google healthcare API saying code: 429: your internet is too fast for our API..\n",
    "\n"
   ]
  },
  {
   "cell_type": "code",
   "execution_count": 3,
   "metadata": {},
   "outputs": [
    {
     "name": "stdout",
     "output_type": "stream",
     "text": [
      "../data/train-dicom-names.csv: count assumption valid, no duplicates!\n",
      "../data/test-dicom-names.csv: count assumption valid, no duplicates!\n"
     ]
    }
   ],
   "source": [
    "def dicom_count_checker(path, assumed_count):\n",
    "    '''Assure our dicom counts are correct, no duplicates, and we downloaded the correct amount of data'''\n",
    "    counted_imgs = 0\n",
    "    data_set = set()\n",
    "    with open(path, 'r') as infile:\n",
    "        for line in infile:\n",
    "            line = line.strip('\\n') #chomp chomp\n",
    "            counted_imgs += 1\n",
    "            data_set.add(line)\n",
    "    assert counted_imgs == assumed_count & len(data_set) == assumed_count\n",
    "    print(path + ': count assumption valid, no duplicates!')\n",
    "    return data_set\n",
    "\n",
    "train_names = dicom_count_checker(train_dicom_names, 10712)\n",
    "test_names = dicom_count_checker(test_dicom_names, 1377)\n",
    "\n"
   ]
  },
  {
   "cell_type": "code",
   "execution_count": 4,
   "metadata": {},
   "outputs": [
    {
     "name": "stdout",
     "output_type": "stream",
     "text": [
      "no data leakage\n"
     ]
    }
   ],
   "source": [
    "# ensure no data leakage between train/test. These should be same len \n",
    "# between set union and non-concat len addition\n",
    "assert (len(train_names) + len(test_names)) == len(train_names.union(test_names))\n",
    "print('no data leakage')"
   ]
  },
  {
   "cell_type": "code",
   "execution_count": 5,
   "metadata": {},
   "outputs": [
    {
     "name": "stdout",
     "output_type": "stream",
     "text": [
      "total annotations:  11582\n",
      "total rows w/o annotations:  8296\n",
      "total unique annotations:  10675\n"
     ]
    }
   ],
   "source": [
    "# strip out dicom file names from annotated list\n",
    "# count the number of annotated files with no disoder present\n",
    "count = 0\n",
    "count_no_annot = 0\n",
    "unique_annotations = set()\n",
    "\n",
    "with open(annot_csv, 'r') as infile:\n",
    "    next(infile)\n",
    "    for line in infile:\n",
    "        count += 1\n",
    "        cols = line.split(',')\n",
    "        cols[1] = cols[1].strip('\\n').lstrip() #chomp\n",
    "        if cols[1] == '-1':\n",
    "            count_no_annot += 1\n",
    "        unique_annotations.add(cols[0]+'.dcm')\n",
    "\n",
    "print('total annotations: ', count)\n",
    "print('total rows w/o annotations: ',count_no_annot)\n",
    "print('total unique annotations: ',len(unique_annotations))"
   ]
  },
  {
   "cell_type": "code",
   "execution_count": 6,
   "metadata": {},
   "outputs": [
    {
     "name": "stdout",
     "output_type": "stream",
     "text": [
      "no annotated test files... yay!\n"
     ]
    }
   ],
   "source": [
    "# take the disjoint of the annotated file names with the test file names. Should return an empty set.\n",
    "assert unique_annotations.isdisjoint(test_names)\n",
    "print('no annotated test files... yay!')"
   ]
  },
  {
   "cell_type": "code",
   "execution_count": 7,
   "metadata": {},
   "outputs": [
    {
     "name": "stdout",
     "output_type": "stream",
     "text": [
      "10712\n",
      "10675\n"
     ]
    }
   ],
   "source": [
    "# Here is the issue... not all training images are annotated...\n",
    "print(len(train_names))\n",
    "print(len(unique_annotations))"
   ]
  },
  {
   "cell_type": "code",
   "execution_count": 8,
   "metadata": {},
   "outputs": [
    {
     "name": "stdout",
     "output_type": "stream",
     "text": [
      "37\n"
     ]
    },
    {
     "data": {
      "text/plain": [
       "{'1.2.276.0.7230010.3.1.4.8323329.10231.1517875222.737143.dcm',\n",
       " '1.2.276.0.7230010.3.1.4.8323329.10362.1517875223.377845.dcm',\n",
       " '1.2.276.0.7230010.3.1.4.8323329.10407.1517875223.567351.dcm',\n",
       " '1.2.276.0.7230010.3.1.4.8323329.10599.1517875224.488727.dcm',\n",
       " '1.2.276.0.7230010.3.1.4.8323329.1068.1517875166.144255.dcm',\n",
       " '1.2.276.0.7230010.3.1.4.8323329.11104.1517875231.169401.dcm',\n",
       " '1.2.276.0.7230010.3.1.4.8323329.11215.1517875231.757436.dcm',\n",
       " '1.2.276.0.7230010.3.1.4.8323329.11557.1517875233.601090.dcm',\n",
       " '1.2.276.0.7230010.3.1.4.8323329.11566.1517875233.640521.dcm',\n",
       " '1.2.276.0.7230010.3.1.4.8323329.11577.1517875233.694347.dcm',\n",
       " '1.2.276.0.7230010.3.1.4.8323329.11584.1517875233.731531.dcm',\n",
       " '1.2.276.0.7230010.3.1.4.8323329.12062.1517875237.179186.dcm',\n",
       " '1.2.276.0.7230010.3.1.4.8323329.13378.1517875244.961609.dcm',\n",
       " '1.2.276.0.7230010.3.1.4.8323329.13415.1517875245.218707.dcm',\n",
       " '1.2.276.0.7230010.3.1.4.8323329.13620.1517875246.884737.dcm',\n",
       " '1.2.276.0.7230010.3.1.4.8323329.14557.1517875252.690062.dcm',\n",
       " '1.2.276.0.7230010.3.1.4.8323329.2083.1517875171.71387.dcm',\n",
       " '1.2.276.0.7230010.3.1.4.8323329.2187.1517875171.557615.dcm',\n",
       " '1.2.276.0.7230010.3.1.4.8323329.2309.1517875172.75133.dcm',\n",
       " '1.2.276.0.7230010.3.1.4.8323329.2563.1517875173.431928.dcm',\n",
       " '1.2.276.0.7230010.3.1.4.8323329.2630.1517875173.773726.dcm',\n",
       " '1.2.276.0.7230010.3.1.4.8323329.3089.1517875176.36192.dcm',\n",
       " '1.2.276.0.7230010.3.1.4.8323329.31801.1517875156.929061.dcm',\n",
       " '1.2.276.0.7230010.3.1.4.8323329.32302.1517875159.778024.dcm',\n",
       " '1.2.276.0.7230010.3.1.4.8323329.32688.1517875161.809571.dcm',\n",
       " '1.2.276.0.7230010.3.1.4.8323329.3321.1517875177.247887.dcm',\n",
       " '1.2.276.0.7230010.3.1.4.8323329.3352.1517875177.433385.dcm',\n",
       " '1.2.276.0.7230010.3.1.4.8323329.3714.1517875179.128897.dcm',\n",
       " '1.2.276.0.7230010.3.1.4.8323329.3791.1517875179.436805.dcm',\n",
       " '1.2.276.0.7230010.3.1.4.8323329.4134.1517875181.277174.dcm',\n",
       " '1.2.276.0.7230010.3.1.4.8323329.4373.1517875182.554858.dcm',\n",
       " '1.2.276.0.7230010.3.1.4.8323329.4468.1517875183.20323.dcm',\n",
       " '1.2.276.0.7230010.3.1.4.8323329.4843.1517875185.73985.dcm',\n",
       " '1.2.276.0.7230010.3.1.4.8323329.4996.1517875185.888529.dcm',\n",
       " '1.2.276.0.7230010.3.1.4.8323329.5087.1517875186.354925.dcm',\n",
       " '1.2.276.0.7230010.3.1.4.8323329.5278.1517875187.330082.dcm',\n",
       " '1.2.276.0.7230010.3.1.4.8323329.5543.1517875188.726955.dcm'}"
      ]
     },
     "execution_count": 8,
     "metadata": {},
     "output_type": "execute_result"
    }
   ],
   "source": [
    "# Here are the bad actors... There are no mentions of these files in the annotations. \n",
    "# Do we treat these as a -1? or are these valid cases of the disorder... or drop them!\n",
    "sym_diff = train_names.symmetric_difference(unique_annotations)\n",
    "print(len(sym_diff))\n",
    "sym_diff"
   ]
  },
  {
   "cell_type": "code",
   "execution_count": 9,
   "metadata": {},
   "outputs": [],
   "source": [
    "# Let's convert these bad actors to JPEG and see what they look like\n",
    "outdir = sample_data + '/bad_actors/'\n",
    "bad_actors = list(sym_diff)\n",
    "bad_actors_paths = [] #should be 37, assert this"
   ]
  },
  {
   "cell_type": "code",
   "execution_count": 10,
   "metadata": {},
   "outputs": [],
   "source": [
    "# make a list of filepaths+filenames for all  bad actors\n",
    "for filename in glob.iglob(train_path + '**/*.dcm', recursive=True):\n",
    "    potential_bad_actor = filename.split('/')[-1]\n",
    "    if potential_bad_actor in bad_actors:\n",
    "        bad_actors_paths.append(filename)\n",
    "assert len(bad_actors_paths) == 37"
   ]
  },
  {
   "cell_type": "code",
   "execution_count": 155,
   "metadata": {},
   "outputs": [],
   "source": [
    "def dicom_to_jpeg(filepath, outdir=outdir, print_dicom=False):\n",
    "    ds = pydicom.read_file(filepath, force=True) # read dicom image\n",
    "    try:\n",
    "        img = ds.pixel_array # get image array\n",
    "    except:\n",
    "        ds.file_meta.TransferSyntaxUID = pydicom.uid.ImplicitVRLittleEndian\n",
    "        img = ds.pixel_array # get image array\n",
    "    if print_dicom == True:\n",
    "        plt.imshow(img, cmap=plt.cm.bone)\n",
    "        plt.show()\n",
    "        return\n",
    "    img_mem = Image.fromarray(img) # Creates an image memory from an object exporting the array interface\n",
    "    img_mem.save(outdir + f.replace('.dcm','.jpeg'))\n",
    "    return"
   ]
  },
  {
   "cell_type": "code",
   "execution_count": 157,
   "metadata": {},
   "outputs": [
    {
     "data": {
      "image/png": "[encoded data removed]",
      "text/plain": [
       "<Figure size 432x288 with 1 Axes>"
      ]
     },
     "metadata": {},
     "output_type": "display_data"
    }
   ],
   "source": [
    "# spot checking these images seem to be at least the right body part.\n",
    "dicom_to_jpeg(bad_actors_paths[0], print_dicom=True)"
   ]
  },
  {
   "cell_type": "code",
   "execution_count": 30,
   "metadata": {
    "collapsed": true
   },
   "outputs": [
    {
     "ename": "ValueError",
     "evalue": "The length of the pixel data in the dataset (93402 bytes) doesn't match the expected length (1048576 bytes). The dataset may be corrupted or there may be an issue with the pixel data handler.",
     "output_type": "error",
     "traceback": [
      "\u001b[0;31m--------------------------------------------------------------------------\u001b[0m",
      "\u001b[0;31mValueError\u001b[0m                               Traceback (most recent call last)",
      "\u001b[0;32m<ipython-input-30-1a1ee78eb334>\u001b[0m in \u001b[0;36m<module>\u001b[0;34m()\u001b[0m\n\u001b[1;32m      6\u001b[0m         \u001b[0mds\u001b[0m \u001b[0;34m=\u001b[0m \u001b[0mpydicom\u001b[0m\u001b[0;34m.\u001b[0m\u001b[0mread_file\u001b[0m\u001b[0;34m(\u001b[0m\u001b[0mbad_actors_paths\u001b[0m\u001b[0;34m[\u001b[0m\u001b[0mcount\u001b[0m\u001b[0;34m]\u001b[0m\u001b[0;34m,\u001b[0m \u001b[0mforce\u001b[0m\u001b[0;34m=\u001b[0m\u001b[0;32mTrue\u001b[0m\u001b[0;34m)\u001b[0m\u001b[0;34m\u001b[0m\u001b[0;34m\u001b[0m\u001b[0m\n\u001b[1;32m      7\u001b[0m         \u001b[0mds\u001b[0m\u001b[0;34m.\u001b[0m\u001b[0mfile_meta\u001b[0m\u001b[0;34m.\u001b[0m\u001b[0mTransferSyntaxUID\u001b[0m \u001b[0;34m=\u001b[0m \u001b[0mpydicom\u001b[0m\u001b[0;34m.\u001b[0m\u001b[0muid\u001b[0m\u001b[0;34m.\u001b[0m\u001b[0mImplicitVRLittleEndian\u001b[0m  \u001b[0;31m# or whatever is the correct transfer syntax for the file\u001b[0m\u001b[0;34m\u001b[0m\u001b[0;34m\u001b[0m\u001b[0m\n\u001b[0;32m----> 8\u001b[0;31m         \u001b[0mimg\u001b[0m \u001b[0;34m=\u001b[0m \u001b[0mds\u001b[0m\u001b[0;34m.\u001b[0m\u001b[0mpixel_array\u001b[0m\u001b[0;34m\u001b[0m\u001b[0;34m\u001b[0m\u001b[0m\n\u001b[0m\u001b[1;32m      9\u001b[0m         \u001b[0mplt\u001b[0m\u001b[0;34m.\u001b[0m\u001b[0mimshow\u001b[0m\u001b[0;34m(\u001b[0m\u001b[0mimg\u001b[0m\u001b[0;34m,\u001b[0m \u001b[0mcmap\u001b[0m\u001b[0;34m=\u001b[0m\u001b[0mplt\u001b[0m\u001b[0;34m.\u001b[0m\u001b[0mcm\u001b[0m\u001b[0;34m.\u001b[0m\u001b[0mbone\u001b[0m\u001b[0;34m)\u001b[0m\u001b[0;34m\u001b[0m\u001b[0;34m\u001b[0m\u001b[0m\n\u001b[1;32m     10\u001b[0m         \u001b[0mcount\u001b[0m\u001b[0;34m+=\u001b[0m \u001b[0;36m1\u001b[0m\u001b[0;34m\u001b[0m\u001b[0;34m\u001b[0m\u001b[0m\n",
      "\u001b[0;32m~/miniconda3/envs/py3x/lib/python3.6/site-packages/pydicom/dataset.py\u001b[0m in \u001b[0;36mpixel_array\u001b[0;34m(self)\u001b[0m\n\u001b[1;32m   1337\u001b[0m             \u001b[0mThe\u001b[0m \u001b[0mPixel\u001b[0m \u001b[0mData\u001b[0m \u001b[0;34m(\u001b[0m\u001b[0;36m7\u001b[0m\u001b[0mFE0\u001b[0m\u001b[0;34m,\u001b[0m\u001b[0;36m00\u001b[0m\u001b[0;36m10\u001b[0m\u001b[0;34m)\u001b[0m \u001b[0;32mas\u001b[0m \u001b[0ma\u001b[0m \u001b[0mNumPy\u001b[0m \u001b[0mndarray\u001b[0m\u001b[0;34m.\u001b[0m\u001b[0;34m\u001b[0m\u001b[0;34m\u001b[0m\u001b[0m\n\u001b[1;32m   1338\u001b[0m         \"\"\"\n\u001b[0;32m-> 1339\u001b[0;31m         \u001b[0mself\u001b[0m\u001b[0;34m.\u001b[0m\u001b[0mconvert_pixel_data\u001b[0m\u001b[0;34m(\u001b[0m\u001b[0;34m)\u001b[0m\u001b[0;34m\u001b[0m\u001b[0;34m\u001b[0m\u001b[0m\n\u001b[0m\u001b[1;32m   1340\u001b[0m         \u001b[0;32mreturn\u001b[0m \u001b[0mself\u001b[0m\u001b[0;34m.\u001b[0m\u001b[0m_pixel_array\u001b[0m\u001b[0;34m\u001b[0m\u001b[0;34m\u001b[0m\u001b[0m\n\u001b[1;32m   1341\u001b[0m \u001b[0;34m\u001b[0m\u001b[0m\n",
      "\u001b[0;32m~/miniconda3/envs/py3x/lib/python3.6/site-packages/pydicom/dataset.py\u001b[0m in \u001b[0;36mconvert_pixel_data\u001b[0;34m(self)\u001b[0m\n\u001b[1;32m   1283\u001b[0m         )\n\u001b[1;32m   1284\u001b[0m \u001b[0;34m\u001b[0m\u001b[0m\n\u001b[0;32m-> 1285\u001b[0;31m         \u001b[0;32mraise\u001b[0m \u001b[0mlast_exception\u001b[0m\u001b[0;34m\u001b[0m\u001b[0;34m\u001b[0m\u001b[0m\n\u001b[0m\u001b[1;32m   1286\u001b[0m \u001b[0;34m\u001b[0m\u001b[0m\n\u001b[1;32m   1287\u001b[0m     \u001b[0;32mdef\u001b[0m \u001b[0mdecompress\u001b[0m\u001b[0;34m(\u001b[0m\u001b[0mself\u001b[0m\u001b[0;34m)\u001b[0m\u001b[0;34m:\u001b[0m\u001b[0;34m\u001b[0m\u001b[0;34m\u001b[0m\u001b[0m\n",
      "\u001b[0;32m~/miniconda3/envs/py3x/lib/python3.6/site-packages/pydicom/dataset.py\u001b[0m in \u001b[0;36mconvert_pixel_data\u001b[0;34m(self)\u001b[0m\n\u001b[1;32m   1251\u001b[0m             \u001b[0;32mtry\u001b[0m\u001b[0;34m:\u001b[0m\u001b[0;34m\u001b[0m\u001b[0;34m\u001b[0m\u001b[0m\n\u001b[1;32m   1252\u001b[0m                 \u001b[0;31m# Use the handler to get a 1D numpy array of the pixel data\u001b[0m\u001b[0;34m\u001b[0m\u001b[0;34m\u001b[0m\u001b[0;34m\u001b[0m\u001b[0m\n\u001b[0;32m-> 1253\u001b[0;31m                 \u001b[0marr\u001b[0m \u001b[0;34m=\u001b[0m \u001b[0mhandler\u001b[0m\u001b[0;34m.\u001b[0m\u001b[0mget_pixeldata\u001b[0m\u001b[0;34m(\u001b[0m\u001b[0mself\u001b[0m\u001b[0;34m)\u001b[0m\u001b[0;34m\u001b[0m\u001b[0;34m\u001b[0m\u001b[0m\n\u001b[0m\u001b[1;32m   1254\u001b[0m                 \u001b[0mself\u001b[0m\u001b[0;34m.\u001b[0m\u001b[0m_pixel_array\u001b[0m \u001b[0;34m=\u001b[0m \u001b[0mreshape_pixel_array\u001b[0m\u001b[0;34m(\u001b[0m\u001b[0mself\u001b[0m\u001b[0;34m,\u001b[0m \u001b[0marr\u001b[0m\u001b[0;34m)\u001b[0m\u001b[0;34m\u001b[0m\u001b[0;34m\u001b[0m\u001b[0m\n\u001b[1;32m   1255\u001b[0m \u001b[0;34m\u001b[0m\u001b[0m\n",
      "\u001b[0;32m~/miniconda3/envs/py3x/lib/python3.6/site-packages/pydicom/pixel_data_handlers/numpy_handler.py\u001b[0m in \u001b[0;36mget_pixeldata\u001b[0;34m(ds, read_only)\u001b[0m\n\u001b[1;32m    255\u001b[0m                 \u001b[0;34m\"The dataset may be corrupted or there may be an issue \"\u001b[0m\u001b[0;34m\u001b[0m\u001b[0;34m\u001b[0m\u001b[0m\n\u001b[1;32m    256\u001b[0m                 \u001b[0;34m\"with the pixel data handler.\"\u001b[0m\u001b[0;34m\u001b[0m\u001b[0;34m\u001b[0m\u001b[0m\n\u001b[0;32m--> 257\u001b[0;31m                 \u001b[0;34m.\u001b[0m\u001b[0mformat\u001b[0m\u001b[0;34m(\u001b[0m\u001b[0mactual_length\u001b[0m\u001b[0;34m,\u001b[0m \u001b[0mpadded_expected_len\u001b[0m\u001b[0;34m)\u001b[0m\u001b[0;34m\u001b[0m\u001b[0;34m\u001b[0m\u001b[0m\n\u001b[0m\u001b[1;32m    258\u001b[0m             )\n\u001b[1;32m    259\u001b[0m     \u001b[0;32melif\u001b[0m \u001b[0mactual_length\u001b[0m \u001b[0;34m>\u001b[0m \u001b[0mpadded_expected_len\u001b[0m\u001b[0;34m:\u001b[0m\u001b[0;34m\u001b[0m\u001b[0;34m\u001b[0m\u001b[0m\n",
      "\u001b[0;31mValueError\u001b[0m: The length of the pixel data in the dataset (93402 bytes) doesn't match the expected length (1048576 bytes). The dataset may be corrupted or there may be an issue with the pixel data handler."
     ]
    },
    {
     "data": {
      "image/png": "[encoded data removed]",
      "text/plain": [
       "<Figure size 432x288 with 42 Axes>"
      ]
     },
     "metadata": {},
     "output_type": "display_data"
    }
   ],
   "source": [
    "fig, ax = plt.subplots(nrows=7, ncols=6)\n",
    "\n",
    "count = 0\n",
    "for row in ax:\n",
    "    for col in row:\n",
    "        ds = pydicom.read_file(bad_actors_paths[count], force=True)\n",
    "        ds.file_meta.TransferSyntaxUID = pydicom.uid.ImplicitVRLittleEndian  # or whatever is the correct transfer syntax for the file\n",
    "        img = ds.pixel_array\n",
    "        plt.imshow(img, cmap=plt.cm.bone)\n",
    "        count+= 1\n",
    "        if count == len(bad_actors_paths):\n",
    "            break\n",
    "#         \n",
    "\n",
    "plt.show()"
   ]
  },
  {
   "cell_type": "markdown",
   "metadata": {},
   "source": [
    "#### let's check the meta data of dicom size for the training and testing\n"
   ]
  },
  {
   "cell_type": "code",
   "execution_count": 31,
   "metadata": {},
   "outputs": [],
   "source": [
    "# make a list of filepaths+filenames for all  data\n",
    "train_paths = []\n",
    "test_paths = []\n",
    "for idx, data_set_path in enumerate([train_path, test_path]):\n",
    "    for filename in glob.iglob(data_set_path + '**/*.dcm', recursive=True):\n",
    "        if idx == 0:\n",
    "            train_paths.append(filename)\n",
    "        else:\n",
    "            test_paths.append(filename)\n",
    "assert len(train_paths) == 10712\n",
    "assert len(test_paths) == 1377"
   ]
  },
  {
   "cell_type": "code",
   "execution_count": 175,
   "metadata": {},
   "outputs": [],
   "source": [
    "train_metadata = []\n",
    "test_metadata = []\n",
    "for idx, data_set in enumerate([train_paths, test_paths]):\n",
    "    for dicom in data_set:\n",
    "        ds = pydicom.dcmread(dicom, force=True)\n",
    "        ds.file_meta.TransferSyntaxUID = pydicom.uid.ImplicitVRLittleEndian\n",
    "        data_dict = {} \n",
    "        \n",
    "#         yuck all these try excepts.. see: https://stackoverflow.com/questions/4978738/is-there-a-python-equivalent-of-the-c-sharp-null-coalescing-operator\n",
    "        \n",
    "        try:\n",
    "            data_dict[\"modality\"] = ds.Modality\n",
    "        except:\n",
    "            data_dict[\"modality\"] = None\n",
    "            \n",
    "        try:\n",
    "            data_dict[\"conversion_type\"] = ds.ConversionType\n",
    "        except:\n",
    "            data_dict[\"conversion_type\"] = None\n",
    "            \n",
    "        try:\n",
    "            data_dict[\"sex\"] = ds.PatientSex\n",
    "        except:\n",
    "            data_dict[\"sex\"] = None\n",
    "            \n",
    "        try:\n",
    "            data_dict[\"age\"] = int(ds.PatientAge)\n",
    "        except:\n",
    "            data_dict[\"age\"] = None\n",
    "            \n",
    "        try:\n",
    "            data_dict[\"body_part\"] = ds.BodyPartExamined\n",
    "        except:\n",
    "            data_dict[\"body_part\"] = None\n",
    "            \n",
    "        try:\n",
    "            data_dict[\"view_pos\"] = ds.ViewPosition\n",
    "        except:\n",
    "            data_dict[\"view_pos\"] = None\n",
    "            \n",
    "        try:\n",
    "            data_dict[\"samples_per_pixel\"] = int(ds.SamplesPerPixel)\n",
    "        except:\n",
    "            data_dict[\"samples_per_pixel\"] = None\n",
    "            \n",
    "        try:\n",
    "            data_dict[\"rows\"] = int(ds.Rows)\n",
    "        except:\n",
    "            data_dict[\"rows\"] = None\n",
    "            \n",
    "        try:\n",
    "            data_dict[\"cols\"] = int(ds.Columns)\n",
    "        except:\n",
    "            data_dict[\"cols\"] = None\n",
    "            \n",
    "        try:\n",
    "            data_dict[\"pixel_spacing_one\"] = float(ds.PixelSpacing[0])\n",
    "        except:\n",
    "            data_dict[\"pixel_spacing_one\"] = None\n",
    "            \n",
    "        try:\n",
    "            data_dict[\"pixel_spacing_two\"] = float(ds.PixelSpacing[1])\n",
    "        except:\n",
    "            data_dict[\"pixel_spacing_two\"] = None\n",
    "            \n",
    "        try:\n",
    "            data_dict[\"pixels\"] = len(ds.PixelData)\n",
    "        except:\n",
    "            data_dict[\"pixels\"] = None\n",
    "            \n",
    "        try:\n",
    "            data_dict[\"dicom_file\"] = dicom.split('/')[-1]\n",
    "        except:\n",
    "            data_dict[\"dicom_file\"] = None\n",
    "            \n",
    "        try:\n",
    "            data_dict[\"dicom_path\"] = dicom.split('/')[-1]\n",
    "        except:\n",
    "            data_dict[\"dicom_path\"] = None\n",
    "    \n",
    "        \n",
    "        if idx == 0:\n",
    "            train_metadata.append(data_dict)\n",
    "        else:\n",
    "            test_metadata.append(data_dict)\n",
    "\n",
    "assert len(train_metadata) == 10712\n",
    "assert len(test_metadata) == 1377\n",
    "\n",
    "# train_metadata[0]\n",
    "\n",
    "# {'modality': 'CR',\n",
    "#  'conversion_type': 'WSD',\n",
    "#  'sex': 'M',\n",
    "#  'age': 22,\n",
    "#  'body_part': 'CHEST',\n",
    "#  'view_pos': 'PA',\n",
    "#  'samples_per_pixel': 1,\n",
    "#  'rows': 1024,\n",
    "#  'cols': 1024,\n",
    "#  'pixel_spacing_one': 0.168,\n",
    "#  'pixel_spacing_two': 0.168,\n",
    "#  'pixels': 126862,\n",
    "#  'dicom_file': '1.2.276.0.7230010.3.1.4.8323329.3404.1517875177.685322.dcm'}"
   ]
  },
  {
   "cell_type": "code",
   "execution_count": 142,
   "metadata": {},
   "outputs": [
    {
     "name": "stdout",
     "output_type": "stream",
     "text": [
      "10712\n",
      "1377\n",
      "10712\n",
      "1377\n"
     ]
    }
   ],
   "source": [
    "print(len(train_metadata))\n",
    "print(len(test_metadata))\n",
    "train_df = pd.DataFrame.from_dict(train_metadata)\n",
    "test_df = pd.DataFrame.from_dict(test_metadata)\n",
    "print(len(train_df.index))\n",
    "print(len(test_df.index))"
   ]
  },
  {
   "cell_type": "code",
   "execution_count": 143,
   "metadata": {},
   "outputs": [],
   "source": [
    "# save these pandas df for future use in metadata EDA\n",
    "train_df.to_pickle(\"../data/train_metadata_df.pkl\")\n",
    "test_df.to_pickle(\"../data/test_metadata_df.pkl\")"
   ]
  },
  {
   "cell_type": "code",
   "execution_count": 144,
   "metadata": {},
   "outputs": [
    {
     "data": {
      "text/html": [
       "<div>\n",
       "<style scoped>\n",
       "    .dataframe tbody tr th:only-of-type {\n",
       "        vertical-align: middle;\n",
       "    }\n",
       "\n",
       "    .dataframe tbody tr th {\n",
       "        vertical-align: top;\n",
       "    }\n",
       "\n",
       "    .dataframe thead th {\n",
       "        text-align: right;\n",
       "    }\n",
       "</style>\n",
       "<table border=\"1\" class=\"dataframe\">\n",
       "  <thead>\n",
       "    <tr style=\"text-align: right;\">\n",
       "      <th></th>\n",
       "      <th>age</th>\n",
       "      <th>body_part</th>\n",
       "      <th>cols</th>\n",
       "      <th>conversion_type</th>\n",
       "      <th>dicom_file</th>\n",
       "      <th>dicom_path</th>\n",
       "      <th>modality</th>\n",
       "      <th>pixel_spacing_one</th>\n",
       "      <th>pixel_spacing_two</th>\n",
       "      <th>pixels</th>\n",
       "      <th>rows</th>\n",
       "      <th>samples_per_pixel</th>\n",
       "      <th>sex</th>\n",
       "      <th>view_pos</th>\n",
       "    </tr>\n",
       "  </thead>\n",
       "  <tbody>\n",
       "    <tr>\n",
       "      <th>0</th>\n",
       "      <td>22.0</td>\n",
       "      <td>CHEST</td>\n",
       "      <td>1024.0</td>\n",
       "      <td>WSD</td>\n",
       "      <td>1.2.276.0.7230010.3.1.4.8323329.3404.151787517...</td>\n",
       "      <td>../data/dicom-images-train/1.2.276.0.7230010.3...</td>\n",
       "      <td>CR</td>\n",
       "      <td>0.168</td>\n",
       "      <td>0.168</td>\n",
       "      <td>126862.0</td>\n",
       "      <td>1024.0</td>\n",
       "      <td>1.0</td>\n",
       "      <td>M</td>\n",
       "      <td>PA</td>\n",
       "    </tr>\n",
       "    <tr>\n",
       "      <th>1</th>\n",
       "      <td>44.0</td>\n",
       "      <td>CHEST</td>\n",
       "      <td>1024.0</td>\n",
       "      <td>WSD</td>\n",
       "      <td>1.2.276.0.7230010.3.1.4.8323329.5176.151787518...</td>\n",
       "      <td>../data/dicom-images-train/1.2.276.0.7230010.3...</td>\n",
       "      <td>CR</td>\n",
       "      <td>0.143</td>\n",
       "      <td>0.143</td>\n",
       "      <td>146768.0</td>\n",
       "      <td>1024.0</td>\n",
       "      <td>1.0</td>\n",
       "      <td>F</td>\n",
       "      <td>PA</td>\n",
       "    </tr>\n",
       "  </tbody>\n",
       "</table>\n",
       "</div>"
      ],
      "text/plain": [
       "    age body_part    cols conversion_type  \\\n",
       "0  22.0     CHEST  1024.0             WSD   \n",
       "1  44.0     CHEST  1024.0             WSD   \n",
       "\n",
       "                                          dicom_file  \\\n",
       "0  1.2.276.0.7230010.3.1.4.8323329.3404.151787517...   \n",
       "1  1.2.276.0.7230010.3.1.4.8323329.5176.151787518...   \n",
       "\n",
       "                                          dicom_path modality  \\\n",
       "0  ../data/dicom-images-train/1.2.276.0.7230010.3...       CR   \n",
       "1  ../data/dicom-images-train/1.2.276.0.7230010.3...       CR   \n",
       "\n",
       "   pixel_spacing_one  pixel_spacing_two    pixels    rows  samples_per_pixel  \\\n",
       "0              0.168              0.168  126862.0  1024.0                1.0   \n",
       "1              0.143              0.143  146768.0  1024.0                1.0   \n",
       "\n",
       "  sex view_pos  \n",
       "0   M       PA  \n",
       "1   F       PA  "
      ]
     },
     "execution_count": 144,
     "metadata": {},
     "output_type": "execute_result"
    }
   ],
   "source": [
    "train_df.head(2)"
   ]
  },
  {
   "cell_type": "code",
   "execution_count": 145,
   "metadata": {},
   "outputs": [
    {
     "data": {
      "text/html": [
       "<div>\n",
       "<style scoped>\n",
       "    .dataframe tbody tr th:only-of-type {\n",
       "        vertical-align: middle;\n",
       "    }\n",
       "\n",
       "    .dataframe tbody tr th {\n",
       "        vertical-align: top;\n",
       "    }\n",
       "\n",
       "    .dataframe thead th {\n",
       "        text-align: right;\n",
       "    }\n",
       "</style>\n",
       "<table border=\"1\" class=\"dataframe\">\n",
       "  <thead>\n",
       "    <tr style=\"text-align: right;\">\n",
       "      <th></th>\n",
       "      <th>age</th>\n",
       "      <th>cols</th>\n",
       "      <th>pixel_spacing_one</th>\n",
       "      <th>pixel_spacing_two</th>\n",
       "      <th>pixels</th>\n",
       "      <th>rows</th>\n",
       "      <th>samples_per_pixel</th>\n",
       "    </tr>\n",
       "  </thead>\n",
       "  <tbody>\n",
       "    <tr>\n",
       "      <th>count</th>\n",
       "      <td>9124.000000</td>\n",
       "      <td>9124.0</td>\n",
       "      <td>9124.000000</td>\n",
       "      <td>9124.000000</td>\n",
       "      <td>9124.000000</td>\n",
       "      <td>9124.0</td>\n",
       "      <td>9124.0</td>\n",
       "    </tr>\n",
       "    <tr>\n",
       "      <th>mean</th>\n",
       "      <td>46.951885</td>\n",
       "      <td>1024.0</td>\n",
       "      <td>0.155545</td>\n",
       "      <td>0.155545</td>\n",
       "      <td>134184.071241</td>\n",
       "      <td>1024.0</td>\n",
       "      <td>1.0</td>\n",
       "    </tr>\n",
       "    <tr>\n",
       "      <th>std</th>\n",
       "      <td>17.215828</td>\n",
       "      <td>0.0</td>\n",
       "      <td>0.016704</td>\n",
       "      <td>0.016704</td>\n",
       "      <td>22931.057707</td>\n",
       "      <td>0.0</td>\n",
       "      <td>0.0</td>\n",
       "    </tr>\n",
       "    <tr>\n",
       "      <th>min</th>\n",
       "      <td>1.000000</td>\n",
       "      <td>1024.0</td>\n",
       "      <td>0.115000</td>\n",
       "      <td>0.115000</td>\n",
       "      <td>40542.000000</td>\n",
       "      <td>1024.0</td>\n",
       "      <td>1.0</td>\n",
       "    </tr>\n",
       "    <tr>\n",
       "      <th>25%</th>\n",
       "      <td>34.000000</td>\n",
       "      <td>1024.0</td>\n",
       "      <td>0.143000</td>\n",
       "      <td>0.143000</td>\n",
       "      <td>115816.500000</td>\n",
       "      <td>1024.0</td>\n",
       "      <td>1.0</td>\n",
       "    </tr>\n",
       "    <tr>\n",
       "      <th>50%</th>\n",
       "      <td>49.000000</td>\n",
       "      <td>1024.0</td>\n",
       "      <td>0.143000</td>\n",
       "      <td>0.143000</td>\n",
       "      <td>137603.000000</td>\n",
       "      <td>1024.0</td>\n",
       "      <td>1.0</td>\n",
       "    </tr>\n",
       "    <tr>\n",
       "      <th>75%</th>\n",
       "      <td>59.000000</td>\n",
       "      <td>1024.0</td>\n",
       "      <td>0.168000</td>\n",
       "      <td>0.168000</td>\n",
       "      <td>152991.000000</td>\n",
       "      <td>1024.0</td>\n",
       "      <td>1.0</td>\n",
       "    </tr>\n",
       "    <tr>\n",
       "      <th>max</th>\n",
       "      <td>413.000000</td>\n",
       "      <td>1024.0</td>\n",
       "      <td>0.194336</td>\n",
       "      <td>0.194336</td>\n",
       "      <td>276992.000000</td>\n",
       "      <td>1024.0</td>\n",
       "      <td>1.0</td>\n",
       "    </tr>\n",
       "  </tbody>\n",
       "</table>\n",
       "</div>"
      ],
      "text/plain": [
       "               age    cols  pixel_spacing_one  pixel_spacing_two  \\\n",
       "count  9124.000000  9124.0        9124.000000        9124.000000   \n",
       "mean     46.951885  1024.0           0.155545           0.155545   \n",
       "std      17.215828     0.0           0.016704           0.016704   \n",
       "min       1.000000  1024.0           0.115000           0.115000   \n",
       "25%      34.000000  1024.0           0.143000           0.143000   \n",
       "50%      49.000000  1024.0           0.143000           0.143000   \n",
       "75%      59.000000  1024.0           0.168000           0.168000   \n",
       "max     413.000000  1024.0           0.194336           0.194336   \n",
       "\n",
       "              pixels    rows  samples_per_pixel  \n",
       "count    9124.000000  9124.0             9124.0  \n",
       "mean   134184.071241  1024.0                1.0  \n",
       "std     22931.057707     0.0                0.0  \n",
       "min     40542.000000  1024.0                1.0  \n",
       "25%    115816.500000  1024.0                1.0  \n",
       "50%    137603.000000  1024.0                1.0  \n",
       "75%    152991.000000  1024.0                1.0  \n",
       "max    276992.000000  1024.0                1.0  "
      ]
     },
     "execution_count": 145,
     "metadata": {},
     "output_type": "execute_result"
    }
   ],
   "source": [
    "train_df.describe()"
   ]
  },
  {
   "cell_type": "code",
   "execution_count": 146,
   "metadata": {},
   "outputs": [
    {
     "data": {
      "text/html": [
       "<div>\n",
       "<style scoped>\n",
       "    .dataframe tbody tr th:only-of-type {\n",
       "        vertical-align: middle;\n",
       "    }\n",
       "\n",
       "    .dataframe tbody tr th {\n",
       "        vertical-align: top;\n",
       "    }\n",
       "\n",
       "    .dataframe thead th {\n",
       "        text-align: right;\n",
       "    }\n",
       "</style>\n",
       "<table border=\"1\" class=\"dataframe\">\n",
       "  <thead>\n",
       "    <tr style=\"text-align: right;\">\n",
       "      <th></th>\n",
       "      <th>age</th>\n",
       "      <th>body_part</th>\n",
       "      <th>cols</th>\n",
       "      <th>conversion_type</th>\n",
       "      <th>dicom_file</th>\n",
       "      <th>dicom_path</th>\n",
       "      <th>modality</th>\n",
       "      <th>pixel_spacing_one</th>\n",
       "      <th>pixel_spacing_two</th>\n",
       "      <th>pixels</th>\n",
       "      <th>rows</th>\n",
       "      <th>samples_per_pixel</th>\n",
       "      <th>sex</th>\n",
       "      <th>view_pos</th>\n",
       "    </tr>\n",
       "  </thead>\n",
       "  <tbody>\n",
       "    <tr>\n",
       "      <th>0</th>\n",
       "      <td>65.0</td>\n",
       "      <td>CHEST</td>\n",
       "      <td>1024.0</td>\n",
       "      <td>WSD</td>\n",
       "      <td>1.2.276.0.7230010.3.1.4.8323329.6729.151787519...</td>\n",
       "      <td>../data/dicom-images-test/1.2.276.0.7230010.3....</td>\n",
       "      <td>CR</td>\n",
       "      <td>0.168</td>\n",
       "      <td>0.168</td>\n",
       "      <td>83628.0</td>\n",
       "      <td>1024.0</td>\n",
       "      <td>1.0</td>\n",
       "      <td>M</td>\n",
       "      <td>AP</td>\n",
       "    </tr>\n",
       "    <tr>\n",
       "      <th>1</th>\n",
       "      <td>49.0</td>\n",
       "      <td>CHEST</td>\n",
       "      <td>1024.0</td>\n",
       "      <td>WSD</td>\n",
       "      <td>1.2.276.0.7230010.3.1.4.8323329.6769.151787520...</td>\n",
       "      <td>../data/dicom-images-test/1.2.276.0.7230010.3....</td>\n",
       "      <td>CR</td>\n",
       "      <td>0.139</td>\n",
       "      <td>0.139</td>\n",
       "      <td>134492.0</td>\n",
       "      <td>1024.0</td>\n",
       "      <td>1.0</td>\n",
       "      <td>F</td>\n",
       "      <td>PA</td>\n",
       "    </tr>\n",
       "  </tbody>\n",
       "</table>\n",
       "</div>"
      ],
      "text/plain": [
       "    age body_part    cols conversion_type  \\\n",
       "0  65.0     CHEST  1024.0             WSD   \n",
       "1  49.0     CHEST  1024.0             WSD   \n",
       "\n",
       "                                          dicom_file  \\\n",
       "0  1.2.276.0.7230010.3.1.4.8323329.6729.151787519...   \n",
       "1  1.2.276.0.7230010.3.1.4.8323329.6769.151787520...   \n",
       "\n",
       "                                          dicom_path modality  \\\n",
       "0  ../data/dicom-images-test/1.2.276.0.7230010.3....       CR   \n",
       "1  ../data/dicom-images-test/1.2.276.0.7230010.3....       CR   \n",
       "\n",
       "   pixel_spacing_one  pixel_spacing_two    pixels    rows  samples_per_pixel  \\\n",
       "0              0.168              0.168   83628.0  1024.0                1.0   \n",
       "1              0.139              0.139  134492.0  1024.0                1.0   \n",
       "\n",
       "  sex view_pos  \n",
       "0   M       AP  \n",
       "1   F       PA  "
      ]
     },
     "execution_count": 146,
     "metadata": {},
     "output_type": "execute_result"
    }
   ],
   "source": [
    "test_df.head(2)"
   ]
  },
  {
   "cell_type": "code",
   "execution_count": 147,
   "metadata": {},
   "outputs": [
    {
     "data": {
      "text/html": [
       "<div>\n",
       "<style scoped>\n",
       "    .dataframe tbody tr th:only-of-type {\n",
       "        vertical-align: middle;\n",
       "    }\n",
       "\n",
       "    .dataframe tbody tr th {\n",
       "        vertical-align: top;\n",
       "    }\n",
       "\n",
       "    .dataframe thead th {\n",
       "        text-align: right;\n",
       "    }\n",
       "</style>\n",
       "<table border=\"1\" class=\"dataframe\">\n",
       "  <thead>\n",
       "    <tr style=\"text-align: right;\">\n",
       "      <th></th>\n",
       "      <th>age</th>\n",
       "      <th>cols</th>\n",
       "      <th>pixel_spacing_one</th>\n",
       "      <th>pixel_spacing_two</th>\n",
       "      <th>pixels</th>\n",
       "      <th>rows</th>\n",
       "      <th>samples_per_pixel</th>\n",
       "    </tr>\n",
       "  </thead>\n",
       "  <tbody>\n",
       "    <tr>\n",
       "      <th>count</th>\n",
       "      <td>1376.000000</td>\n",
       "      <td>1376.0</td>\n",
       "      <td>1376.000000</td>\n",
       "      <td>1376.000000</td>\n",
       "      <td>1376.000000</td>\n",
       "      <td>1376.0</td>\n",
       "      <td>1376.0</td>\n",
       "    </tr>\n",
       "    <tr>\n",
       "      <th>mean</th>\n",
       "      <td>46.316860</td>\n",
       "      <td>1024.0</td>\n",
       "      <td>0.155371</td>\n",
       "      <td>0.155371</td>\n",
       "      <td>132707.414244</td>\n",
       "      <td>1024.0</td>\n",
       "      <td>1.0</td>\n",
       "    </tr>\n",
       "    <tr>\n",
       "      <th>std</th>\n",
       "      <td>16.799261</td>\n",
       "      <td>0.0</td>\n",
       "      <td>0.016275</td>\n",
       "      <td>0.016275</td>\n",
       "      <td>22721.864835</td>\n",
       "      <td>0.0</td>\n",
       "      <td>0.0</td>\n",
       "    </tr>\n",
       "    <tr>\n",
       "      <th>min</th>\n",
       "      <td>2.000000</td>\n",
       "      <td>1024.0</td>\n",
       "      <td>0.139000</td>\n",
       "      <td>0.139000</td>\n",
       "      <td>62168.000000</td>\n",
       "      <td>1024.0</td>\n",
       "      <td>1.0</td>\n",
       "    </tr>\n",
       "    <tr>\n",
       "      <th>25%</th>\n",
       "      <td>34.000000</td>\n",
       "      <td>1024.0</td>\n",
       "      <td>0.143000</td>\n",
       "      <td>0.143000</td>\n",
       "      <td>114172.000000</td>\n",
       "      <td>1024.0</td>\n",
       "      <td>1.0</td>\n",
       "    </tr>\n",
       "    <tr>\n",
       "      <th>50%</th>\n",
       "      <td>48.000000</td>\n",
       "      <td>1024.0</td>\n",
       "      <td>0.143000</td>\n",
       "      <td>0.143000</td>\n",
       "      <td>135484.000000</td>\n",
       "      <td>1024.0</td>\n",
       "      <td>1.0</td>\n",
       "    </tr>\n",
       "    <tr>\n",
       "      <th>75%</th>\n",
       "      <td>59.000000</td>\n",
       "      <td>1024.0</td>\n",
       "      <td>0.168000</td>\n",
       "      <td>0.168000</td>\n",
       "      <td>151706.500000</td>\n",
       "      <td>1024.0</td>\n",
       "      <td>1.0</td>\n",
       "    </tr>\n",
       "    <tr>\n",
       "      <th>max</th>\n",
       "      <td>89.000000</td>\n",
       "      <td>1024.0</td>\n",
       "      <td>0.194314</td>\n",
       "      <td>0.194314</td>\n",
       "      <td>193548.000000</td>\n",
       "      <td>1024.0</td>\n",
       "      <td>1.0</td>\n",
       "    </tr>\n",
       "  </tbody>\n",
       "</table>\n",
       "</div>"
      ],
      "text/plain": [
       "               age    cols  pixel_spacing_one  pixel_spacing_two  \\\n",
       "count  1376.000000  1376.0        1376.000000        1376.000000   \n",
       "mean     46.316860  1024.0           0.155371           0.155371   \n",
       "std      16.799261     0.0           0.016275           0.016275   \n",
       "min       2.000000  1024.0           0.139000           0.139000   \n",
       "25%      34.000000  1024.0           0.143000           0.143000   \n",
       "50%      48.000000  1024.0           0.143000           0.143000   \n",
       "75%      59.000000  1024.0           0.168000           0.168000   \n",
       "max      89.000000  1024.0           0.194314           0.194314   \n",
       "\n",
       "              pixels    rows  samples_per_pixel  \n",
       "count    1376.000000  1376.0             1376.0  \n",
       "mean   132707.414244  1024.0                1.0  \n",
       "std     22721.864835     0.0                0.0  \n",
       "min     62168.000000  1024.0                1.0  \n",
       "25%    114172.000000  1024.0                1.0  \n",
       "50%    135484.000000  1024.0                1.0  \n",
       "75%    151706.500000  1024.0                1.0  \n",
       "max    193548.000000  1024.0                1.0  "
      ]
     },
     "execution_count": 147,
     "metadata": {},
     "output_type": "execute_result"
    }
   ],
   "source": [
    "test_df.describe()"
   ]
  },
  {
   "cell_type": "code",
   "execution_count": 148,
   "metadata": {},
   "outputs": [
    {
     "name": "stderr",
     "output_type": "stream",
     "text": [
      "/home/keil/miniconda3/envs/py3x/lib/python3.6/site-packages/numpy/lib/histograms.py:824: RuntimeWarning: invalid value encountered in greater_equal\n",
      "  keep = (tmp_a >= first_edge)\n",
      "/home/keil/miniconda3/envs/py3x/lib/python3.6/site-packages/numpy/lib/histograms.py:825: RuntimeWarning: invalid value encountered in less_equal\n",
      "  keep &= (tmp_a <= last_edge)\n"
     ]
    },
    {
     "data": {
      "image/png": "[encoded data removed]",
      "text/plain": [
       "<Figure size 432x288 with 1 Axes>"
      ]
     },
     "metadata": {},
     "output_type": "display_data"
    }
   ],
   "source": [
    "fig1 = plt.hist(train_df.age.to_list(),bins=50,range=(0,110));\n",
    "plt.show();"
   ]
  },
  {
   "cell_type": "code",
   "execution_count": 149,
   "metadata": {},
   "outputs": [
    {
     "name": "stderr",
     "output_type": "stream",
     "text": [
      "/home/keil/miniconda3/envs/py3x/lib/python3.6/site-packages/numpy/lib/histograms.py:824: RuntimeWarning: invalid value encountered in greater_equal\n",
      "  keep = (tmp_a >= first_edge)\n",
      "/home/keil/miniconda3/envs/py3x/lib/python3.6/site-packages/numpy/lib/histograms.py:825: RuntimeWarning: invalid value encountered in less_equal\n",
      "  keep &= (tmp_a <= last_edge)\n"
     ]
    },
    {
     "data": {
      "image/png": "[encoded data removed]",
      "text/plain": [
       "<Figure size 432x288 with 1 Axes>"
      ]
     },
     "metadata": {},
     "output_type": "display_data"
    }
   ],
   "source": [
    "fig1 = plt.hist(test_df.age.to_list(),bins=50,range=(0,110))\n",
    "plt.show()"
   ]
  },
  {
   "cell_type": "code",
   "execution_count": 150,
   "metadata": {},
   "outputs": [
    {
     "name": "stdout",
     "output_type": "stream",
     "text": [
      "rows --------------- \n",
      "1024.0    9124\n",
      "NaN       1588\n",
      "Name: rows, dtype: int64\n",
      "1024.0    1376\n",
      "NaN          1\n",
      "Name: rows, dtype: int64\n",
      "cols --------------- \n",
      "1024.0    9124\n",
      "NaN       1588\n",
      "Name: cols, dtype: int64\n",
      "1024.0    1376\n",
      "NaN          1\n",
      "Name: cols, dtype: int64\n"
     ]
    }
   ],
   "source": [
    "print('rows --------------- ')\n",
    "print(train_df.rows.value_counts(dropna=False))\n",
    "print(test_df.rows.value_counts(dropna=False))\n",
    "print('cols --------------- ')\n",
    "print(train_df.cols.value_counts(dropna=False))\n",
    "print(test_df.cols.value_counts(dropna=False))"
   ]
  },
  {
   "cell_type": "code",
   "execution_count": 151,
   "metadata": {},
   "outputs": [
    {
     "name": "stdout",
     "output_type": "stream",
     "text": [
      "CHEST    9124\n",
      "NaN      1588\n",
      "Name: body_part, dtype: int64\n",
      "CHEST    1376\n",
      "NaN         1\n",
      "Name: body_part, dtype: int64\n"
     ]
    }
   ],
   "source": [
    "print(train_df.body_part.value_counts(dropna=False))\n",
    "print(test_df.body_part.value_counts(dropna=False))"
   ]
  },
  {
   "cell_type": "code",
   "execution_count": 152,
   "metadata": {},
   "outputs": [
    {
     "name": "stdout",
     "output_type": "stream",
     "text": [
      "CR     9124\n",
      "NaN    1588\n",
      "Name: modality, dtype: int64\n",
      "CR     1376\n",
      "NaN       1\n",
      "Name: modality, dtype: int64\n"
     ]
    }
   ],
   "source": [
    "print(train_df.modality.value_counts(dropna=False))\n",
    "print(test_df.modality.value_counts(dropna=False))"
   ]
  },
  {
   "cell_type": "code",
   "execution_count": 163,
   "metadata": {
    "scrolled": false
   },
   "outputs": [
    {
     "name": "stdout",
     "output_type": "stream",
     "text": [
      "1028    1.2.276.0.7230010.3.1.4.8323329.6421.151787519...\n",
      "Name: dicom_file, dtype: object\n",
      "1028    1.2.276.0.7230010.3.1.4.8323329.6421.151787519...\n",
      "Name: dicom_file, dtype: object\n",
      "1028    1.2.276.0.7230010.3.1.4.8323329.6421.151787519...\n",
      "Name: dicom_file, dtype: object\n",
      "1028    1.2.276.0.7230010.3.1.4.8323329.6421.151787519...\n",
      "Name: dicom_file, dtype: object\n",
      "1028    1.2.276.0.7230010.3.1.4.8323329.6421.151787519...\n",
      "Name: dicom_file, dtype: object\n"
     ]
    }
   ],
   "source": [
    "#all the same for test, this dicom has much of its meta-data missing...\n",
    "print(test_df[test_df['modality'].isnull()].dicom_file)\n",
    "print(test_df[test_df['body_part'].isnull()].dicom_file)\n",
    "print(test_df[test_df['rows'].isnull()].dicom_file)\n",
    "print(test_df[test_df['cols'].isnull()].dicom_file)\n",
    "print(test_df[test_df['pixels'].isnull()].dicom_file)\n"
   ]
  },
  {
   "cell_type": "code",
   "execution_count": 160,
   "metadata": {},
   "outputs": [
    {
     "name": "stdout",
     "output_type": "stream",
     "text": [
      "(7b5b, 200a) Private tag data                    UN: b'ror\": {\\n    \"code\": 429,\\n    \"message\": \"Quota exceeded for quota metric \\'healthcare.googleapis.com/dicom_web_ops\\' and limit \\'DicomWebOpsPerMinutePerProject\\' of service \\'healthcare.googleapis.com\\' for consumer \\'project_number:38125765871\\'.\",\\n    \"status\": \"RESOURCE_EXHAUSTED\",\\n    \"details\": [\\n      {\\n        \"@type\": \"type.googleapis.com/google.rpc.Help\",\\n        \"links\": [\\n          {\\n            \"description\": \"Google developer console API key\",\\n            \"url\": \"https://console.developers.google.com/project/38125765871/apiui/credential\"\\n          }\\n        ]\\n      }\\n    ]\\n  }\\n}\\n]'\n"
     ]
    }
   ],
   "source": [
    "#lets plot the dicom from test and see if anything looks fishy\n",
    "# dicom_to_jpeg(test_df[test_df['cols'].isnull()].dicom_path.to_list()[0], print_dicom=True)\n",
    "\n",
    "\n",
    "\n",
    "\n",
    "ds = pydicom.read_file(test_df[test_df['cols'].isnull()].dicom_path.to_list()[0], force=True) # read dicom image\n",
    "print(ds)\n",
    "# try:\n",
    "#     img = ds.pixel_array # get image array\n",
    "# except:\n",
    "#     ds.file_meta.TransferSyntaxUID = pydicom.uid.ImplicitVRLittleEndian\n",
    "#     img = ds.pixel_array # get image array\n",
    "# if print_dicom == True:\n",
    "#     plt.imshow(img, cmap=plt.cm.bone)\n",
    "#     plt.show()\n",
    "#     return\n",
    "# img_mem = Image.fromarray(img) # Creates an image memory from an object exporting the array interface\n",
    "# img_mem.save(outdir + f.replace('.dcm','.jpeg'))\n",
    "# return"
   ]
  },
  {
   "cell_type": "code",
   "execution_count": 132,
   "metadata": {},
   "outputs": [
    {
     "name": "stdout",
     "output_type": "stream",
     "text": [
      "1588\n",
      "1588\n",
      "1588\n"
     ]
    }
   ],
   "source": [
    "# appears that if row is NaN then corresponding col is NaN\n",
    "cols = train_df[train_df['cols'].isnull()].dicom_file.to_list()\n",
    "rows = train_df[train_df['rows'].isnull()].dicom_file.to_list()\n",
    "print(len(set(cols + rows)))\n",
    "print(len(rows))\n",
    "print(len(cols))"
   ]
  },
  {
   "cell_type": "code",
   "execution_count": 165,
   "metadata": {},
   "outputs": [
    {
     "name": "stdout",
     "output_type": "stream",
     "text": [
      "1588\n"
     ]
    }
   ],
   "source": [
    "# potential issue... 1588 pixel data is null\n",
    "print(len(train_df[train_df['pixels'].isnull()].dicom_file))"
   ]
  },
  {
   "cell_type": "code",
   "execution_count": 171,
   "metadata": {},
   "outputs": [
    {
     "data": {
      "text/plain": [
       "{1}"
      ]
     },
     "execution_count": 171,
     "metadata": {},
     "output_type": "execute_result"
    }
   ],
   "source": [
    "# img = train_df[train_df['pixels'].isnull()].dicom_path.to_list()[3]\n",
    "huh = set()\n",
    "for img in train_df[train_df['pixels'].isnull()].dicom_path.to_list():\n",
    "    ds = pydicom.read_file(img, force=True) # read dicom image\n",
    "    huh.add(len(ds))\n",
    "huh\n",
    "# yup.. google screwed me over. thanks google..... 1588 instances off google healthcare API saying \n",
    "# code: 429: your internet is too fast for our API..."
   ]
  },
  {
   "cell_type": "code",
   "execution_count": null,
   "metadata": {},
   "outputs": [],
   "source": []
  },
  {
   "cell_type": "code",
   "execution_count": null,
   "metadata": {},
   "outputs": [],
   "source": []
  },
  {
   "cell_type": "code",
   "execution_count": null,
   "metadata": {},
   "outputs": [],
   "source": []
  },
  {
   "cell_type": "code",
   "execution_count": null,
   "metadata": {},
   "outputs": [],
   "source": [
    "# sample dump from, ds = pydicom.dcmread(dicom, force=True):\n",
    "    \n",
    "# (0008, 0005) Specific Character Set              CS: 'ISO_IR 100'\n",
    "# (0008, 0016) SOP Class UID                       UI: Secondary Capture Image Storage\n",
    "# (0008, 0018) SOP Instance UID                    UI: 1.2.276.0.7230010.3.1.4.8323329.3404.1517875177.685322\n",
    "# (0008, 0020) Study Date                          DA: '19010101'\n",
    "# (0008, 0030) Study Time                          TM: '000000.00'\n",
    "# (0008, 0050) Accession Number                    SH: ''\n",
    "# (0008, 0060) Modality                            CS: 'CR'\n",
    "# (0008, 0064) Conversion Type                     CS: 'WSD'\n",
    "# (0008, 0090) Referring Physician's Name          PN: ''\n",
    "# (0008, 103e) Series Description                  LO: 'view: PA'\n",
    "# (0010, 0010) Patient's Name                      PN: '5418554c-a9bb-4f90-b474-d17096054f0e'\n",
    "# (0010, 0020) Patient ID                          LO: '5418554c-a9bb-4f90-b474-d17096054f0e'\n",
    "# (0010, 0030) Patient's Birth Date                DA: ''\n",
    "# (0010, 0040) Patient's Sex                       CS: 'M'\n",
    "# (0010, 1010) Patient's Age                       AS: '22'\n",
    "# (0018, 0015) Body Part Examined                  CS: 'CHEST'\n",
    "# (0018, 5101) View Position                       CS: 'PA'\n",
    "# (0020, 000d) Study Instance UID                  UI: 1.2.276.0.7230010.3.1.2.8323329.3404.1517875177.685321\n",
    "# (0020, 000e) Series Instance UID                 UI: 1.2.276.0.7230010.3.1.3.8323329.3404.1517875177.685320\n",
    "# (0020, 0010) Study ID                            SH: ''\n",
    "# (0020, 0011) Series Number                       IS: \"1\"\n",
    "# (0020, 0013) Instance Number                     IS: \"1\"\n",
    "# (0020, 0020) Patient Orientation                 CS: ''\n",
    "# (0028, 0002) Samples per Pixel                   US: 1\n",
    "# (0028, 0004) Photometric Interpretation          CS: 'MONOCHROME2'\n",
    "# (0028, 0010) Rows                                US: 1024\n",
    "# (0028, 0011) Columns                             US: 1024\n",
    "# (0028, 0030) Pixel Spacing                       DS: ['0.168', '0.168']\n",
    "# (0028, 0100) Bits Allocated                      US: 8\n",
    "# (0028, 0101) Bits Stored                         US: 8\n",
    "# (0028, 0102) High Bit                            US: 7\n",
    "# (0028, 0103) Pixel Representation                US: 0\n",
    "# (0028, 2110) Lossy Image Compression             CS: '01'\n",
    "# (0028, 2114) Lossy Image Compression Method      CS: 'ISO_10918_1'\n",
    "# (7fe0, 0010) Pixel Data                          OB: Array of 126862 bytes"
   ]
  }
 ],
 "metadata": {
  "kernelspec": {
   "display_name": "Python 3",
   "language": "python",
   "name": "python3"
  },
  "language_info": {
   "codemirror_mode": {
    "name": "ipython",
    "version": 3
   },
   "file_extension": ".py",
   "mimetype": "text/x-python",
   "name": "python",
   "nbconvert_exporter": "python",
   "pygments_lexer": "ipython3",
   "version": "3.6.8"
  }
 },
 "nbformat": 4,
 "nbformat_minor": 2
}
